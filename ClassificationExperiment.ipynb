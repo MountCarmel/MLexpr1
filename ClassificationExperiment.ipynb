import numpy as np
import matplotlib.pyplot as plt
from sklearn.datasets import load_svmlight_file
from sklearn.model_selection import train_test_split

X, y = load_svmlight_file("house_scale")
X_train, X_valid, y_train, y_valid = train_test_split(X, y, test_size=0.33, random_state=20)
eta = 0.001

y_train = y_train.reshape(339, 1)
y_valid = y_valid.reshape(167, 1)

m, n = np.shape(X_train)
w = np.random.randint(1, 10, n)
w = w.reshape(n, 1)
L_train = np.zeros((100, 1))
L_valid = np.zeros((100, 1))
num = np.arange(100)


for i in range(100):
    grad = -1 * X_train.T * y_train + X_train.T * (X_train * w)
    w = w - eta * grad

    L_train[i] = np.dot((X_train * w - y_train).T, X_train * w - y_train) / (2*339)
    L_valid[i] = np.dot((X_valid * w - y_valid).T, X_valid * w - y_valid) / (2*167)

    #L_train[i] = (X_train * w - y_train).T*(X_train * w - y_train) / (2*339)
    #L_test[i] = (X_test * w - y_test).T*(X_test * w - y_test) / (2*167)
print(L_train[99])
print(L_valid[99])
plt.figure(1)
plt.plot(num + 1, L_train[num], label="$trainingLoss$")
plt.plot(num + 1, L_valid[num], label="$validationLoss$")
plt.legend()
plt.show()
